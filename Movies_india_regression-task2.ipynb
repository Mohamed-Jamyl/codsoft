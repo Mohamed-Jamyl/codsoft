{
 "cells": [
  {
   "cell_type": "code",
   "execution_count": 67,
   "id": "aeb63abc-0b07-4728-8efa-6e4255c7692a",
   "metadata": {},
   "outputs": [],
   "source": [
    "import numpy as np\n",
    "import pandas as pd\n",
    "import seaborn as sns\n",
    "import math\n",
    "import matplotlib.pyplot as plt\n",
    "\n",
    "import warnings\n",
    "warnings.filterwarnings(\"ignore\", category=DeprecationWarning)"
   ]
  },
  {
   "cell_type": "code",
   "execution_count": 68,
   "id": "8538e2ac-0949-48d8-8783-ec6126c5f6e8",
   "metadata": {},
   "outputs": [],
   "source": [
    "import pandas as pd\n",
    "\n",
    "# for detect UnicodeDecodeError ( 'latin1' or 'cp1252')\n",
    "df = pd.read_csv('IMDb Movies India.csv', encoding='cp1252')"
   ]
  },
  {
   "cell_type": "markdown",
   "id": "3f923fbf-13ba-4e30-b7bc-f8436633a9ba",
   "metadata": {},
   "source": [
    "### Explor Data"
   ]
  },
  {
   "cell_type": "code",
   "execution_count": 70,
   "id": "65534430-6309-4ebd-a50b-c23fe01af316",
   "metadata": {},
   "outputs": [
    {
     "data": {
      "text/html": [
       "<div>\n",
       "<style scoped>\n",
       "    .dataframe tbody tr th:only-of-type {\n",
       "        vertical-align: middle;\n",
       "    }\n",
       "\n",
       "    .dataframe tbody tr th {\n",
       "        vertical-align: top;\n",
       "    }\n",
       "\n",
       "    .dataframe thead th {\n",
       "        text-align: right;\n",
       "    }\n",
       "</style>\n",
       "<table border=\"1\" class=\"dataframe\">\n",
       "  <thead>\n",
       "    <tr style=\"text-align: right;\">\n",
       "      <th></th>\n",
       "      <th>Name</th>\n",
       "      <th>Year</th>\n",
       "      <th>Duration</th>\n",
       "      <th>Genre</th>\n",
       "      <th>Rating</th>\n",
       "      <th>Votes</th>\n",
       "      <th>Director</th>\n",
       "      <th>Actor 1</th>\n",
       "      <th>Actor 2</th>\n",
       "      <th>Actor 3</th>\n",
       "    </tr>\n",
       "  </thead>\n",
       "  <tbody>\n",
       "    <tr>\n",
       "      <th>0</th>\n",
       "      <td></td>\n",
       "      <td>NaN</td>\n",
       "      <td>NaN</td>\n",
       "      <td>Drama</td>\n",
       "      <td>NaN</td>\n",
       "      <td>NaN</td>\n",
       "      <td>J.S. Randhawa</td>\n",
       "      <td>Manmauji</td>\n",
       "      <td>Birbal</td>\n",
       "      <td>Rajendra Bhatia</td>\n",
       "    </tr>\n",
       "    <tr>\n",
       "      <th>1</th>\n",
       "      <td>#Gadhvi (He thought he was Gandhi)</td>\n",
       "      <td>(2019)</td>\n",
       "      <td>109 min</td>\n",
       "      <td>Drama</td>\n",
       "      <td>7.0</td>\n",
       "      <td>8</td>\n",
       "      <td>Gaurav Bakshi</td>\n",
       "      <td>Rasika Dugal</td>\n",
       "      <td>Vivek Ghamande</td>\n",
       "      <td>Arvind Jangid</td>\n",
       "    </tr>\n",
       "    <tr>\n",
       "      <th>2</th>\n",
       "      <td>#Homecoming</td>\n",
       "      <td>(2021)</td>\n",
       "      <td>90 min</td>\n",
       "      <td>Drama, Musical</td>\n",
       "      <td>NaN</td>\n",
       "      <td>NaN</td>\n",
       "      <td>Soumyajit Majumdar</td>\n",
       "      <td>Sayani Gupta</td>\n",
       "      <td>Plabita Borthakur</td>\n",
       "      <td>Roy Angana</td>\n",
       "    </tr>\n",
       "    <tr>\n",
       "      <th>3</th>\n",
       "      <td>#Yaaram</td>\n",
       "      <td>(2019)</td>\n",
       "      <td>110 min</td>\n",
       "      <td>Comedy, Romance</td>\n",
       "      <td>4.4</td>\n",
       "      <td>35</td>\n",
       "      <td>Ovais Khan</td>\n",
       "      <td>Prateik</td>\n",
       "      <td>Ishita Raj</td>\n",
       "      <td>Siddhant Kapoor</td>\n",
       "    </tr>\n",
       "    <tr>\n",
       "      <th>4</th>\n",
       "      <td>...And Once Again</td>\n",
       "      <td>(2010)</td>\n",
       "      <td>105 min</td>\n",
       "      <td>Drama</td>\n",
       "      <td>NaN</td>\n",
       "      <td>NaN</td>\n",
       "      <td>Amol Palekar</td>\n",
       "      <td>Rajat Kapoor</td>\n",
       "      <td>Rituparna Sengupta</td>\n",
       "      <td>Antara Mali</td>\n",
       "    </tr>\n",
       "  </tbody>\n",
       "</table>\n",
       "</div>"
      ],
      "text/plain": [
       "                                 Name    Year Duration            Genre  \\\n",
       "0                                         NaN      NaN            Drama   \n",
       "1  #Gadhvi (He thought he was Gandhi)  (2019)  109 min            Drama   \n",
       "2                         #Homecoming  (2021)   90 min   Drama, Musical   \n",
       "3                             #Yaaram  (2019)  110 min  Comedy, Romance   \n",
       "4                   ...And Once Again  (2010)  105 min            Drama   \n",
       "\n",
       "   Rating Votes            Director       Actor 1             Actor 2  \\\n",
       "0     NaN   NaN       J.S. Randhawa      Manmauji              Birbal   \n",
       "1     7.0     8       Gaurav Bakshi  Rasika Dugal      Vivek Ghamande   \n",
       "2     NaN   NaN  Soumyajit Majumdar  Sayani Gupta   Plabita Borthakur   \n",
       "3     4.4    35          Ovais Khan       Prateik          Ishita Raj   \n",
       "4     NaN   NaN        Amol Palekar  Rajat Kapoor  Rituparna Sengupta   \n",
       "\n",
       "           Actor 3  \n",
       "0  Rajendra Bhatia  \n",
       "1    Arvind Jangid  \n",
       "2       Roy Angana  \n",
       "3  Siddhant Kapoor  \n",
       "4      Antara Mali  "
      ]
     },
     "execution_count": 70,
     "metadata": {},
     "output_type": "execute_result"
    }
   ],
   "source": [
    "df.head()"
   ]
  },
  {
   "cell_type": "code",
   "execution_count": 71,
   "id": "1e088100-23a6-4c88-9e0a-488a45af1264",
   "metadata": {},
   "outputs": [
    {
     "data": {
      "text/plain": [
       "(15509, 10)"
      ]
     },
     "execution_count": 71,
     "metadata": {},
     "output_type": "execute_result"
    }
   ],
   "source": [
    "df.shape"
   ]
  },
  {
   "cell_type": "code",
   "execution_count": 72,
   "id": "50f43c8d-5b9b-4cde-905b-9a60ca876769",
   "metadata": {},
   "outputs": [
    {
     "name": "stdout",
     "output_type": "stream",
     "text": [
      "<class 'pandas.core.frame.DataFrame'>\n",
      "RangeIndex: 15509 entries, 0 to 15508\n",
      "Data columns (total 10 columns):\n",
      " #   Column    Non-Null Count  Dtype  \n",
      "---  ------    --------------  -----  \n",
      " 0   Name      15509 non-null  object \n",
      " 1   Year      14981 non-null  object \n",
      " 2   Duration  7240 non-null   object \n",
      " 3   Genre     13632 non-null  object \n",
      " 4   Rating    7919 non-null   float64\n",
      " 5   Votes     7920 non-null   object \n",
      " 6   Director  14984 non-null  object \n",
      " 7   Actor 1   13892 non-null  object \n",
      " 8   Actor 2   13125 non-null  object \n",
      " 9   Actor 3   12365 non-null  object \n",
      "dtypes: float64(1), object(9)\n",
      "memory usage: 1.2+ MB\n"
     ]
    }
   ],
   "source": [
    "df.info()"
   ]
  },
  {
   "cell_type": "code",
   "execution_count": 73,
   "id": "c75ca919-2e11-4b05-b3b2-0f6183a1bb60",
   "metadata": {},
   "outputs": [
    {
     "data": {
      "text/plain": [
       "Name           0\n",
       "Year         528\n",
       "Duration    8269\n",
       "Genre       1877\n",
       "Rating      7590\n",
       "Votes       7589\n",
       "Director     525\n",
       "Actor 1     1617\n",
       "Actor 2     2384\n",
       "Actor 3     3144\n",
       "dtype: int64"
      ]
     },
     "execution_count": 73,
     "metadata": {},
     "output_type": "execute_result"
    }
   ],
   "source": [
    "df.isnull().sum()"
   ]
  },
  {
   "cell_type": "markdown",
   "id": "e5438e40-1f2a-4e37-aead-630e40a9bf0b",
   "metadata": {},
   "source": [
    "### Data processing"
   ]
  },
  {
   "cell_type": "code",
   "execution_count": 75,
   "id": "5400bbf6-c9d2-4a71-bac0-91fcfdf72d9f",
   "metadata": {},
   "outputs": [
    {
     "data": {
      "text/html": [
       "<div>\n",
       "<style scoped>\n",
       "    .dataframe tbody tr th:only-of-type {\n",
       "        vertical-align: middle;\n",
       "    }\n",
       "\n",
       "    .dataframe tbody tr th {\n",
       "        vertical-align: top;\n",
       "    }\n",
       "\n",
       "    .dataframe thead th {\n",
       "        text-align: right;\n",
       "    }\n",
       "</style>\n",
       "<table border=\"1\" class=\"dataframe\">\n",
       "  <thead>\n",
       "    <tr style=\"text-align: right;\">\n",
       "      <th></th>\n",
       "      <th>Year</th>\n",
       "      <th>Duration</th>\n",
       "      <th>Rating</th>\n",
       "      <th>Votes</th>\n",
       "    </tr>\n",
       "  </thead>\n",
       "  <tbody>\n",
       "    <tr>\n",
       "      <th>0</th>\n",
       "      <td>NaN</td>\n",
       "      <td>NaN</td>\n",
       "      <td>NaN</td>\n",
       "      <td>NaN</td>\n",
       "    </tr>\n",
       "    <tr>\n",
       "      <th>1</th>\n",
       "      <td>(2019)</td>\n",
       "      <td>109 min</td>\n",
       "      <td>7.0</td>\n",
       "      <td>8</td>\n",
       "    </tr>\n",
       "    <tr>\n",
       "      <th>2</th>\n",
       "      <td>(2021)</td>\n",
       "      <td>90 min</td>\n",
       "      <td>NaN</td>\n",
       "      <td>NaN</td>\n",
       "    </tr>\n",
       "    <tr>\n",
       "      <th>3</th>\n",
       "      <td>(2019)</td>\n",
       "      <td>110 min</td>\n",
       "      <td>4.4</td>\n",
       "      <td>35</td>\n",
       "    </tr>\n",
       "    <tr>\n",
       "      <th>4</th>\n",
       "      <td>(2010)</td>\n",
       "      <td>105 min</td>\n",
       "      <td>NaN</td>\n",
       "      <td>NaN</td>\n",
       "    </tr>\n",
       "  </tbody>\n",
       "</table>\n",
       "</div>"
      ],
      "text/plain": [
       "     Year Duration  Rating Votes\n",
       "0     NaN      NaN     NaN   NaN\n",
       "1  (2019)  109 min     7.0     8\n",
       "2  (2021)   90 min     NaN   NaN\n",
       "3  (2019)  110 min     4.4    35\n",
       "4  (2010)  105 min     NaN   NaN"
      ]
     },
     "execution_count": 75,
     "metadata": {},
     "output_type": "execute_result"
    }
   ],
   "source": [
    "df = df.drop(['Name','Director','Actor 1','Actor 2','Actor 3','Genre'], axis=1)\n",
    "df.head()"
   ]
  },
  {
   "cell_type": "code",
   "execution_count": 76,
   "id": "bc279490-3822-4f61-a4a7-05eda4450778",
   "metadata": {},
   "outputs": [],
   "source": [
    "# remove brackets '()' from Year column\n",
    "df['Year'] = df['Year'].str.replace(r'\\(|\\)', '', regex=True)"
   ]
  },
  {
   "cell_type": "code",
   "execution_count": 77,
   "id": "63ce8343-69b6-41a2-8a83-02464b5aa39c",
   "metadata": {},
   "outputs": [],
   "source": [
    "# remove 'min' from Duration column\n",
    "df['Duration'] = df['Duration'].str.replace(r'min', '', regex=True)"
   ]
  },
  {
   "cell_type": "code",
   "execution_count": 78,
   "id": "66d95f31-d880-4c30-8e84-7fb2b832e663",
   "metadata": {},
   "outputs": [
    {
     "data": {
      "text/html": [
       "<div>\n",
       "<style scoped>\n",
       "    .dataframe tbody tr th:only-of-type {\n",
       "        vertical-align: middle;\n",
       "    }\n",
       "\n",
       "    .dataframe tbody tr th {\n",
       "        vertical-align: top;\n",
       "    }\n",
       "\n",
       "    .dataframe thead th {\n",
       "        text-align: right;\n",
       "    }\n",
       "</style>\n",
       "<table border=\"1\" class=\"dataframe\">\n",
       "  <thead>\n",
       "    <tr style=\"text-align: right;\">\n",
       "      <th></th>\n",
       "      <th>Year</th>\n",
       "      <th>Duration</th>\n",
       "      <th>Rating</th>\n",
       "      <th>Votes</th>\n",
       "    </tr>\n",
       "  </thead>\n",
       "  <tbody>\n",
       "    <tr>\n",
       "      <th>0</th>\n",
       "      <td>NaN</td>\n",
       "      <td>NaN</td>\n",
       "      <td>NaN</td>\n",
       "      <td>NaN</td>\n",
       "    </tr>\n",
       "    <tr>\n",
       "      <th>1</th>\n",
       "      <td>2019</td>\n",
       "      <td>109</td>\n",
       "      <td>7.0</td>\n",
       "      <td>8</td>\n",
       "    </tr>\n",
       "    <tr>\n",
       "      <th>2</th>\n",
       "      <td>2021</td>\n",
       "      <td>90</td>\n",
       "      <td>NaN</td>\n",
       "      <td>NaN</td>\n",
       "    </tr>\n",
       "    <tr>\n",
       "      <th>3</th>\n",
       "      <td>2019</td>\n",
       "      <td>110</td>\n",
       "      <td>4.4</td>\n",
       "      <td>35</td>\n",
       "    </tr>\n",
       "    <tr>\n",
       "      <th>4</th>\n",
       "      <td>2010</td>\n",
       "      <td>105</td>\n",
       "      <td>NaN</td>\n",
       "      <td>NaN</td>\n",
       "    </tr>\n",
       "  </tbody>\n",
       "</table>\n",
       "</div>"
      ],
      "text/plain": [
       "   Year Duration  Rating Votes\n",
       "0   NaN      NaN     NaN   NaN\n",
       "1  2019     109      7.0     8\n",
       "2  2021      90      NaN   NaN\n",
       "3  2019     110      4.4    35\n",
       "4  2010     105      NaN   NaN"
      ]
     },
     "execution_count": 78,
     "metadata": {},
     "output_type": "execute_result"
    }
   ],
   "source": [
    "df.head()"
   ]
  },
  {
   "cell_type": "code",
   "execution_count": 79,
   "id": "a2658297-10d2-4637-81e2-353a8a3804c5",
   "metadata": {},
   "outputs": [],
   "source": [
    "# transform year column to datetime type\n",
    "df['Year'] = pd.to_datetime(df['Year'], format='%Y')   # yyyy-m-d\n",
    "df['Year'] = pd.to_datetime(df['Year'], format='%Y').dt.year # yyyy"
   ]
  },
  {
   "cell_type": "code",
   "execution_count": 80,
   "id": "adb3e5f8-63ac-4460-8e79-a8c9c549bfec",
   "metadata": {},
   "outputs": [
    {
     "data": {
      "text/plain": [
       "Year\n",
       "2019.0    410\n",
       "2021.0    392\n",
       "2018.0    381\n",
       "2017.0    360\n",
       "2005.0    346\n",
       "         ... \n",
       "1917.0      1\n",
       "1913.0      1\n",
       "1926.0      1\n",
       "1914.0      1\n",
       "1924.0      1\n",
       "Name: count, Length: 102, dtype: int64"
      ]
     },
     "execution_count": 80,
     "metadata": {},
     "output_type": "execute_result"
    }
   ],
   "source": [
    "df['Year'].value_counts()"
   ]
  },
  {
   "cell_type": "code",
   "execution_count": 81,
   "id": "ea14b68e-4394-4dd3-a94b-1961a08f7dfc",
   "metadata": {},
   "outputs": [],
   "source": [
    "# replace NAN with '2019'\n",
    "df['Year'] = df['Year'].fillna(2019)"
   ]
  },
  {
   "cell_type": "code",
   "execution_count": 82,
   "id": "51eca94d-352c-441d-99c4-66f16b5ac6fd",
   "metadata": {},
   "outputs": [
    {
     "data": {
      "text/plain": [
       "Year\n",
       "2019.0    938\n",
       "2021.0    392\n",
       "2018.0    381\n",
       "2017.0    360\n",
       "2005.0    346\n",
       "         ... \n",
       "1917.0      1\n",
       "1913.0      1\n",
       "1926.0      1\n",
       "1914.0      1\n",
       "1924.0      1\n",
       "Name: count, Length: 102, dtype: int64"
      ]
     },
     "execution_count": 82,
     "metadata": {},
     "output_type": "execute_result"
    }
   ],
   "source": [
    "df['Year'].value_counts()"
   ]
  },
  {
   "cell_type": "code",
   "execution_count": 83,
   "id": "53d36f3a-701b-4ceb-8bd5-d7539f1f8c33",
   "metadata": {},
   "outputs": [],
   "source": [
    "# transform 'Duration' and 'Votes' from object to float\n",
    "df['Duration'] = pd.to_numeric(df['Duration'], errors='coerce')\n",
    "df['Votes'] = pd.to_numeric(df['Votes'], errors='coerce')"
   ]
  },
  {
   "cell_type": "code",
   "execution_count": 84,
   "id": "e1533e97-74ff-4047-b74c-e1380bf3c5e1",
   "metadata": {},
   "outputs": [
    {
     "name": "stdout",
     "output_type": "stream",
     "text": [
      "<class 'pandas.core.frame.DataFrame'>\n",
      "RangeIndex: 15509 entries, 0 to 15508\n",
      "Data columns (total 4 columns):\n",
      " #   Column    Non-Null Count  Dtype  \n",
      "---  ------    --------------  -----  \n",
      " 0   Year      15509 non-null  float64\n",
      " 1   Duration  7240 non-null   float64\n",
      " 2   Rating    7919 non-null   float64\n",
      " 3   Votes     6548 non-null   float64\n",
      "dtypes: float64(4)\n",
      "memory usage: 484.8 KB\n"
     ]
    }
   ],
   "source": [
    "df.info()"
   ]
  },
  {
   "cell_type": "code",
   "execution_count": 85,
   "id": "40060e3b-5b9d-472d-a033-97b509adfab7",
   "metadata": {},
   "outputs": [
    {
     "name": "stderr",
     "output_type": "stream",
     "text": [
      "C:\\Users\\RPC\\AppData\\Local\\Temp\\ipykernel_2876\\1459846082.py:4: FutureWarning: A value is trying to be set on a copy of a DataFrame or Series through chained assignment using an inplace method.\n",
      "The behavior will change in pandas 3.0. This inplace method will never work because the intermediate object on which we are setting values always behaves as a copy.\n",
      "\n",
      "For example, when doing 'df[col].method(value, inplace=True)', try using 'df.method({col: value}, inplace=True)' or df[col] = df[col].method(value) instead, to perform the operation inplace on the original object.\n",
      "\n",
      "\n",
      "  df['Votes'].fillna(mid,inplace=True)\n",
      "C:\\Users\\RPC\\AppData\\Local\\Temp\\ipykernel_2876\\1459846082.py:7: FutureWarning: A value is trying to be set on a copy of a DataFrame or Series through chained assignment using an inplace method.\n",
      "The behavior will change in pandas 3.0. This inplace method will never work because the intermediate object on which we are setting values always behaves as a copy.\n",
      "\n",
      "For example, when doing 'df[col].method(value, inplace=True)', try using 'df.method({col: value}, inplace=True)' or df[col] = df[col].method(value) instead, to perform the operation inplace on the original object.\n",
      "\n",
      "\n",
      "  df['Duration'].fillna(mid,inplace=True)\n",
      "C:\\Users\\RPC\\AppData\\Local\\Temp\\ipykernel_2876\\1459846082.py:10: FutureWarning: A value is trying to be set on a copy of a DataFrame or Series through chained assignment using an inplace method.\n",
      "The behavior will change in pandas 3.0. This inplace method will never work because the intermediate object on which we are setting values always behaves as a copy.\n",
      "\n",
      "For example, when doing 'df[col].method(value, inplace=True)', try using 'df.method({col: value}, inplace=True)' or df[col] = df[col].method(value) instead, to perform the operation inplace on the original object.\n",
      "\n",
      "\n",
      "  df['Rating'].fillna(mid,inplace=True)\n"
     ]
    }
   ],
   "source": [
    "# replace nan \n",
    "\n",
    "mid=df['Votes'].median()\n",
    "df['Votes'].fillna(mid,inplace=True)\n",
    "\n",
    "mid=df['Duration'].median()\n",
    "df['Duration'].fillna(mid,inplace=True)\n",
    "\n",
    "mid=df['Rating'].mean()\n",
    "df['Rating'].fillna(mid,inplace=True)"
   ]
  },
  {
   "cell_type": "code",
   "execution_count": 86,
   "id": "ded4feba-9832-4b46-8b4f-beebc3176b20",
   "metadata": {},
   "outputs": [
    {
     "data": {
      "text/plain": [
       "Year        0\n",
       "Duration    0\n",
       "Rating      0\n",
       "Votes       0\n",
       "dtype: int64"
      ]
     },
     "execution_count": 86,
     "metadata": {},
     "output_type": "execute_result"
    }
   ],
   "source": [
    "df.isna().sum()"
   ]
  },
  {
   "cell_type": "code",
   "execution_count": 87,
   "id": "a20623c2-416d-4a03-9afa-99e5cbc77352",
   "metadata": {},
   "outputs": [
    {
     "data": {
      "image/png": "[encoded data removed]",
      "text/plain": [
       "<Figure size 800x600 with 2 Axes>"
      ]
     },
     "metadata": {},
     "output_type": "display_data"
    }
   ],
   "source": [
    "corrMatt = df.corr()\n",
    "mask = np.array(corrMatt)\n",
    "mask[np.tril_indices_from(mask)] = False\n",
    "fig,ax= plt.subplots()\n",
    "fig.set_size_inches(8,6)\n",
    "sns.heatmap(corrMatt, mask=mask,vmax=.8, square=True,annot=True)\n",
    "plt.show()"
   ]
  },
  {
   "cell_type": "code",
   "execution_count": 88,
   "id": "25f81fa2-7421-41ad-98b9-09ec2844c951",
   "metadata": {},
   "outputs": [
    {
     "data": {
      "image/png": "[encoded data removed]",
      "text/plain": [
       "<Figure size 640x480 with 4 Axes>"
      ]
     },
     "metadata": {},
     "output_type": "display_data"
    }
   ],
   "source": [
    "df.hist(rwidth=0.9)\n",
    "plt.tight_layout()"
   ]
  },
  {
   "cell_type": "markdown",
   "id": "68ad6b32-b1a4-4420-8d96-e66b992105e6",
   "metadata": {},
   "source": [
    "### Create Model"
   ]
  },
  {
   "cell_type": "code",
   "execution_count": 90,
   "id": "e9b96d8c-00ba-4a2b-9274-cf2f8b67ae87",
   "metadata": {},
   "outputs": [],
   "source": [
    "from sklearn.model_selection import train_test_split\n",
    "\n",
    "from xgboost import XGBRegressor\n",
    "from sklearn.linear_model import LinearRegression\n",
    "from sklearn.tree import DecisionTreeRegressor\n",
    "from sklearn.ensemble import RandomForestRegressor\n",
    "from sklearn.ensemble import GradientBoostingRegressor\n",
    "from sklearn.svm import SVR\n",
    "\n",
    "from sklearn.metrics import r2_score, mean_squared_error, mean_absolute_error\n",
    "\n",
    "x=df.drop('Rating',axis=1) \n",
    "y=df['Rating']\n",
    "\n",
    "x_train,x_test,y_train,y_test=train_test_split(x,y,train_size=0.8,random_state=1234)\n",
    "\n",
    "score=[]\n",
    "r_2=[]\n",
    "rmse=[]\n",
    "mae=[]\n",
    "\n",
    "def reg(model):\n",
    "    model.fit(x_train,y_train)\n",
    "    pred = model.predict(x_test)\n",
    "\n",
    "    SCORE=model.score(x_test,y_test)\n",
    "    R2 = r2_score(y_test,pred)\n",
    "    RMSE = math.sqrt(mean_squared_error(y_test,pred))\n",
    "    MAE = mean_absolute_error(y_test,pred)\n",
    "    \n",
    "    score.append(SCORE)\n",
    "    r_2.append(R2)\n",
    "    rmse.append(RMSE)\n",
    "    mae.append(MAE)"
   ]
  },
  {
   "cell_type": "code",
   "execution_count": 91,
   "id": "d9368ba1-e16b-41b2-a48b-251d04f62bc5",
   "metadata": {},
   "outputs": [],
   "source": [
    "m1=LinearRegression()\n",
    "m2=XGBRegressor()\n",
    "m3=RandomForestRegressor()\n",
    "m4=DecisionTreeRegressor()\n",
    "m5=SVR()\n",
    "m6=GradientBoostingRegressor()"
   ]
  },
  {
   "cell_type": "code",
   "execution_count": 92,
   "id": "d61f01e4-6936-4856-a38f-81aa0f62d0ea",
   "metadata": {},
   "outputs": [],
   "source": [
    "reg(m1)\n",
    "reg(m2)\n",
    "reg(m3)\n",
    "reg(m4)\n",
    "reg(m5)\n",
    "reg(m6)"
   ]
  },
  {
   "cell_type": "code",
   "execution_count": 93,
   "id": "19eb4b10-2c95-451c-9d53-8224db5c80b3",
   "metadata": {},
   "outputs": [],
   "source": [
    "Algorithms = ['LinearRegression','XGBRegressor','RandomForestRegressor','DecisionTreeRegressor','SVR','GradientBoostingRegressor']"
   ]
  },
  {
   "cell_type": "code",
   "execution_count": 94,
   "id": "8b295d3f-3b6c-44c9-92b5-c47a5d8bc6df",
   "metadata": {},
   "outputs": [
    {
     "data": {
      "text/html": [
       "<div>\n",
       "<style scoped>\n",
       "    .dataframe tbody tr th:only-of-type {\n",
       "        vertical-align: middle;\n",
       "    }\n",
       "\n",
       "    .dataframe tbody tr th {\n",
       "        vertical-align: top;\n",
       "    }\n",
       "\n",
       "    .dataframe thead th {\n",
       "        text-align: right;\n",
       "    }\n",
       "</style>\n",
       "<table border=\"1\" class=\"dataframe\">\n",
       "  <thead>\n",
       "    <tr style=\"text-align: right;\">\n",
       "      <th></th>\n",
       "      <th>Algorithms</th>\n",
       "      <th>Score</th>\n",
       "      <th>R2</th>\n",
       "      <th>rmse</th>\n",
       "      <th>mae</th>\n",
       "    </tr>\n",
       "  </thead>\n",
       "  <tbody>\n",
       "    <tr>\n",
       "      <th>0</th>\n",
       "      <td>LinearRegression</td>\n",
       "      <td>0.010065</td>\n",
       "      <td>0.010065</td>\n",
       "      <td>0.937729</td>\n",
       "      <td>0.589360</td>\n",
       "    </tr>\n",
       "    <tr>\n",
       "      <th>1</th>\n",
       "      <td>XGBRegressor</td>\n",
       "      <td>0.143151</td>\n",
       "      <td>0.143151</td>\n",
       "      <td>0.872421</td>\n",
       "      <td>0.501818</td>\n",
       "    </tr>\n",
       "    <tr>\n",
       "      <th>2</th>\n",
       "      <td>RandomForestRegressor</td>\n",
       "      <td>0.070236</td>\n",
       "      <td>0.070236</td>\n",
       "      <td>0.908784</td>\n",
       "      <td>0.518388</td>\n",
       "    </tr>\n",
       "    <tr>\n",
       "      <th>3</th>\n",
       "      <td>DecisionTreeRegressor</td>\n",
       "      <td>-0.530844</td>\n",
       "      <td>-0.530844</td>\n",
       "      <td>1.166111</td>\n",
       "      <td>0.658642</td>\n",
       "    </tr>\n",
       "    <tr>\n",
       "      <th>4</th>\n",
       "      <td>SVR</td>\n",
       "      <td>0.004605</td>\n",
       "      <td>0.004605</td>\n",
       "      <td>0.940312</td>\n",
       "      <td>0.572508</td>\n",
       "    </tr>\n",
       "    <tr>\n",
       "      <th>5</th>\n",
       "      <td>GradientBoostingRegressor</td>\n",
       "      <td>0.216169</td>\n",
       "      <td>0.216169</td>\n",
       "      <td>0.834422</td>\n",
       "      <td>0.503849</td>\n",
       "    </tr>\n",
       "  </tbody>\n",
       "</table>\n",
       "</div>"
      ],
      "text/plain": [
       "                  Algorithms     Score        R2      rmse       mae\n",
       "0           LinearRegression  0.010065  0.010065  0.937729  0.589360\n",
       "1               XGBRegressor  0.143151  0.143151  0.872421  0.501818\n",
       "2      RandomForestRegressor  0.070236  0.070236  0.908784  0.518388\n",
       "3      DecisionTreeRegressor -0.530844 -0.530844  1.166111  0.658642\n",
       "4                        SVR  0.004605  0.004605  0.940312  0.572508\n",
       "5  GradientBoostingRegressor  0.216169  0.216169  0.834422  0.503849"
      ]
     },
     "execution_count": 94,
     "metadata": {},
     "output_type": "execute_result"
    }
   ],
   "source": [
    "result=pd.DataFrame({'Algorithms':Algorithms,'Score':score,'R2':r_2,'rmse':rmse,'mae':mae})\n",
    "result"
   ]
  },
  {
   "cell_type": "code",
   "execution_count": 95,
   "id": "c64f27bf-a1ab-4c7f-9156-7a7f18d0421f",
   "metadata": {},
   "outputs": [
    {
     "data": {
      "image/png": "[encoded data removed]",
      "text/plain": [
       "<Figure size 2000x500 with 1 Axes>"
      ]
     },
     "metadata": {},
     "output_type": "display_data"
    }
   ],
   "source": [
    "fig,sx=plt.subplots(figsize=(20,5))\n",
    "plt.plot(result.Algorithms,result.R2,label='R2',c='b',marker='o')\n",
    "plt.legend()\n",
    "plt.show()"
   ]
  },
  {
   "cell_type": "code",
   "execution_count": 96,
   "id": "e40c92b3-39b0-4750-9023-a2468f3823a3",
   "metadata": {},
   "outputs": [
    {
     "data": {
      "image/png": "[encoded data removed]",
      "text/plain": [
       "<Figure size 2000x500 with 1 Axes>"
      ]
     },
     "metadata": {},
     "output_type": "display_data"
    }
   ],
   "source": [
    "fig,sx=plt.subplots(figsize=(20,5))\n",
    "plt.plot(result.Algorithms,result.rmse,label='rmse',c='r',marker='o')\n",
    "plt.legend()\n",
    "plt.show()"
   ]
  }
 ],
 "metadata": {
  "kernelspec": {
   "display_name": "Python 3 (ipykernel)",
   "language": "python",
   "name": "python3"
  },
  "language_info": {
   "codemirror_mode": {
    "name": "ipython",
    "version": 3
   },
   "file_extension": ".py",
   "mimetype": "text/x-python",
   "name": "python",
   "nbconvert_exporter": "python",
   "pygments_lexer": "ipython3",
   "version": "3.12.4"
  }
 },
 "nbformat": 4,
 "nbformat_minor": 5
}
